{
 "cells": [
  {
   "cell_type": "code",
   "execution_count": null,
   "metadata": {},
   "outputs": [],
   "source": [
    "![ramen_rj.png](attachment:ramen_rj.png)\n",
    "\n",
    "# Introduction\n",
    "The Ramen Rater is a product review website for the hardcore ramen enthusiast (or \"ramenphile\"), with over 2500 reviews to date. This dataset is an export of \"The Big List\" (of reviews),\n",
    "Each record in the dataset is a single ramen product review. Stars indicate the ramen quality, as assessed by the reviewer, on a 5-point scale; this is the most important column in the dataset.\n",
    "\n",
    "This dataset was republished as-is from the original [BIG LIST](https://www.theramenrater.com/). The data set has since been updated to include reviews up until January 25th 2020 and currently reviews 3545 different ramen products.\n",
    "\n",
    "# Import Packages"
   ]
  }
 ],
 "metadata": {
  "kernelspec": {
   "display_name": "Python 3",
   "language": "python",
   "name": "python3"
  },
  "language_info": {
   "codemirror_mode": {
    "name": "ipython",
    "version": 3
   },
   "file_extension": ".py",
   "mimetype": "text/x-python",
   "name": "python",
   "nbconvert_exporter": "python",
   "pygments_lexer": "ipython3",
   "version": "3.7.3"
  }
 },
 "nbformat": 4,
 "nbformat_minor": 2
}
